{
  "nbformat": 4,
  "nbformat_minor": 0,
  "metadata": {
    "colab": {
      "provenance": [],
      "gpuType": "T4"
    },
    "kernelspec": {
      "name": "python3",
      "display_name": "Python 3"
    },
    "language_info": {
      "name": "python"
    },
    "accelerator": "GPU"
  },
  "cells": [
    {
      "cell_type": "code",
      "execution_count": 1,
      "metadata": {
        "colab": {
          "base_uri": "https://localhost:8080/"
        },
        "id": "j0QaHCf0etJ2",
        "outputId": "28ee6e46-b174-41c8-b625-045650b0cbc3"
      },
      "outputs": [
        {
          "output_type": "stream",
          "name": "stdout",
          "text": [
            "Mon Oct 27 11:46:45 2025       \n",
            "+-----------------------------------------------------------------------------------------+\n",
            "| NVIDIA-SMI 550.54.15              Driver Version: 550.54.15      CUDA Version: 12.4     |\n",
            "|-----------------------------------------+------------------------+----------------------+\n",
            "| GPU  Name                 Persistence-M | Bus-Id          Disp.A | Volatile Uncorr. ECC |\n",
            "| Fan  Temp   Perf          Pwr:Usage/Cap |           Memory-Usage | GPU-Util  Compute M. |\n",
            "|                                         |                        |               MIG M. |\n",
            "|=========================================+========================+======================|\n",
            "|   0  Tesla T4                       Off |   00000000:00:04.0 Off |                    0 |\n",
            "| N/A   59C    P8             11W /   70W |       0MiB /  15360MiB |      0%      Default |\n",
            "|                                         |                        |                  N/A |\n",
            "+-----------------------------------------+------------------------+----------------------+\n",
            "                                                                                         \n",
            "+-----------------------------------------------------------------------------------------+\n",
            "| Processes:                                                                              |\n",
            "|  GPU   GI   CI        PID   Type   Process name                              GPU Memory |\n",
            "|        ID   ID                                                               Usage      |\n",
            "|=========================================================================================|\n",
            "|  No running processes found                                                             |\n",
            "+-----------------------------------------------------------------------------------------+\n"
          ]
        }
      ],
      "source": [
        "import torch\n",
        "!nvidia-smi"
      ]
    },
    {
      "cell_type": "markdown",
      "source": [
        "#**1st exercise**\n",
        "Create a random tensor with shape (6,6)."
      ],
      "metadata": {
        "id": "78abl6BBfuBT"
      }
    },
    {
      "cell_type": "code",
      "source": [
        "torch.cuda.manual_seed(0)\n",
        "firstor= torch.rand(6,6, device='cuda')\n",
        "firstor"
      ],
      "metadata": {
        "colab": {
          "base_uri": "https://localhost:8080/"
        },
        "id": "Md9qXZpsgf_7",
        "outputId": "fc92c26e-2300-423c-c9df-eac93c156e62"
      },
      "execution_count": 29,
      "outputs": [
        {
          "output_type": "execute_result",
          "data": {
            "text/plain": [
              "tensor([[0.3990, 0.5167, 0.0249, 0.9401, 0.9459, 0.7967],\n",
              "        [0.4150, 0.8203, 0.2290, 0.9096, 0.1183, 0.0752],\n",
              "        [0.4092, 0.9601, 0.2093, 0.1940, 0.8909, 0.4387],\n",
              "        [0.3570, 0.5454, 0.8299, 0.2099, 0.7684, 0.4290],\n",
              "        [0.2117, 0.6606, 0.1654, 0.4250, 0.9927, 0.6964],\n",
              "        [0.2472, 0.7028, 0.7494, 0.9303, 0.0494, 0.0750]], device='cuda:0')"
            ]
          },
          "metadata": {},
          "execution_count": 29
        }
      ]
    },
    {
      "cell_type": "markdown",
      "source": [
        "#2nd exercise\n",
        "Multiply the tensor from exercise 1 with a new random tensor of shape (2, 6). You may need to transpose the second tensor in order to perform the multiplication correctly"
      ],
      "metadata": {
        "id": "qEpsz9rJgsDW"
      }
    },
    {
      "cell_type": "code",
      "source": [
        "torch.cuda.manual_seed(0)\n",
        "secondor = torch.rand(2,6,device =\"cuda\").T\n",
        "secondor\n",
        "lastor = torch.matmul(firstor,secondor) # dot product\n",
        "lastor"
      ],
      "metadata": {
        "colab": {
          "base_uri": "https://localhost:8080/"
        },
        "id": "MhY2tKwegnT1",
        "outputId": "74de0f30-fe41-47ac-b764-2d3d8f34fca1"
      },
      "execution_count": 28,
      "outputs": [
        {
          "output_type": "execute_result",
          "data": {
            "text/plain": [
              "tensor([[2.8400, 1.6221],\n",
              "        [1.6221, 1.7445],\n",
              "        [2.0391, 1.3201],\n",
              "        [1.7109, 1.0997],\n",
              "        [2.3232, 1.2240],\n",
              "        [1.4615, 1.7084]], device='cuda:0')"
            ]
          },
          "metadata": {},
          "execution_count": 28
        }
      ]
    },
    {
      "cell_type": "markdown",
      "source": [
        "##Find the maximum and minimum values of the output of 2."
      ],
      "metadata": {
        "id": "ZBF56Dujo5nL"
      }
    },
    {
      "cell_type": "code",
      "source": [
        "max_value = torch.max(lastor)\n",
        "min_value = torch.min(lastor)\n",
        "maxindex = torch.argmax(lastor)\n",
        "minindex = torch.argmin(lastor)\n",
        "\n",
        "print(f\"Maximum value: {max_value}\")\n",
        "print(f\"Minimum value: {min_value}\")\n",
        "maxindex, minindex"
      ],
      "metadata": {
        "colab": {
          "base_uri": "https://localhost:8080/"
        },
        "id": "s-y8Zl-mhpyw",
        "outputId": "f208cad9-417c-440a-c23d-e75be1f9a35d"
      },
      "execution_count": 33,
      "outputs": [
        {
          "output_type": "stream",
          "name": "stdout",
          "text": [
            "Maximum value: 2.839986801147461\n",
            "Minimum value: 1.0997406244277954\n"
          ]
        },
        {
          "output_type": "execute_result",
          "data": {
            "text/plain": [
              "(tensor(0, device='cuda:0'), tensor(7, device='cuda:0'))"
            ]
          },
          "metadata": {},
          "execution_count": 33
        }
      ]
    },
    {
      "cell_type": "markdown",
      "source": [
        "### Create a random tensor with a shape of (1, 1, 1, 6), and then generate a new tensor by removing all singleton dimensions, resulting in a tensor of shape (6)."
      ],
      "metadata": {
        "id": "Ol25bqVCqg3h"
      }
    },
    {
      "cell_type": "code",
      "source": [
        "lastQuest = torch.rand(1,1,1,10)\n",
        "lastQuest=lastQuest.squeeze()\n",
        "lastQuest=lastQuest.squeeze()\n",
        "lastQuest=lastQuest.squeeze()\n",
        "lastQuest"
      ],
      "metadata": {
        "colab": {
          "base_uri": "https://localhost:8080/"
        },
        "id": "-96LSCNVqk5d",
        "outputId": "250b2170-a608-4660-e778-64f341752bfc"
      },
      "execution_count": 36,
      "outputs": [
        {
          "output_type": "execute_result",
          "data": {
            "text/plain": [
              "tensor([0.3986, 0.7742, 0.7703, 0.0178, 0.8119, 0.1087, 0.3943, 0.2973, 0.4037,\n",
              "        0.4018])"
            ]
          },
          "metadata": {},
          "execution_count": 36
        }
      ]
    },
    {
      "cell_type": "code",
      "source": [],
      "metadata": {
        "id": "5fEmNxgDq6ZF"
      },
      "execution_count": null,
      "outputs": []
    }
  ]
}