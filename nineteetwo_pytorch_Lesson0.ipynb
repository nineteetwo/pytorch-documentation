{
  "nbformat": 4,
  "nbformat_minor": 0,
  "metadata": {
    "colab": {
      "provenance": [],
      "toc_visible": true,
      "gpuType": "T4"
    },
    "kernelspec": {
      "name": "python3",
      "display_name": "Python 3"
    },
    "language_info": {
      "name": "python"
    },
    "accelerator": "GPU"
  },
  "cells": [
    {
      "cell_type": "code",
      "execution_count": 1,
      "metadata": {
        "colab": {
          "base_uri": "https://localhost:8080/"
        },
        "id": "UjhcssckGYZT",
        "outputId": "5a77c5d1-5bd5-4e51-cb85-8a1c4de70913"
      },
      "outputs": [
        {
          "output_type": "stream",
          "name": "stdout",
          "text": [
            "2.8.0+cu126\n",
            "Mon Oct 27 11:11:18 2025       \n",
            "+-----------------------------------------------------------------------------------------+\n",
            "| NVIDIA-SMI 550.54.15              Driver Version: 550.54.15      CUDA Version: 12.4     |\n",
            "|-----------------------------------------+------------------------+----------------------+\n",
            "| GPU  Name                 Persistence-M | Bus-Id          Disp.A | Volatile Uncorr. ECC |\n",
            "| Fan  Temp   Perf          Pwr:Usage/Cap |           Memory-Usage | GPU-Util  Compute M. |\n",
            "|                                         |                        |               MIG M. |\n",
            "|=========================================+========================+======================|\n",
            "|   0  Tesla T4                       Off |   00000000:00:04.0 Off |                    0 |\n",
            "| N/A   43C    P8              9W /   70W |       0MiB /  15360MiB |      0%      Default |\n",
            "|                                         |                        |                  N/A |\n",
            "+-----------------------------------------+------------------------+----------------------+\n",
            "                                                                                         \n",
            "+-----------------------------------------------------------------------------------------+\n",
            "| Processes:                                                                              |\n",
            "|  GPU   GI   CI        PID   Type   Process name                              GPU Memory |\n",
            "|        ID   ID                                                               Usage      |\n",
            "|=========================================================================================|\n",
            "|  No running processes found                                                             |\n",
            "+-----------------------------------------------------------------------------------------+\n"
          ]
        }
      ],
      "source": [
        "#THIS FXN THING TOOK 6 HOURS TO MAKE OMG\n",
        "#testing collab if everything works\n",
        "#don't forget to change the runtime type to GPU.\n",
        "import torch\n",
        "import pandas as pd\n",
        "import numpy as np\n",
        "import matplotlib.pyplot as plt\n",
        "print(torch.__version__)\n",
        "!nvidia-smi"
      ]
    },
    {
      "cell_type": "markdown",
      "source": [
        "Intro to Tensors"
      ],
      "metadata": {
        "id": "47AuhQInKGlu"
      }
    },
    {
      "cell_type": "markdown",
      "source": [
        "creating tensors"
      ],
      "metadata": {
        "id": "Qvhjy13kKMpP"
      }
    },
    {
      "cell_type": "code",
      "source": [
        "#scalar\n",
        "scalar = torch.tensor(8)\n",
        "scalar\n"
      ],
      "metadata": {
        "colab": {
          "base_uri": "https://localhost:8080/"
        },
        "id": "BeWwqk2JKIb9",
        "outputId": "cf29f098-4aec-4cec-d975-cf0b8947a394"
      },
      "execution_count": 2,
      "outputs": [
        {
          "output_type": "execute_result",
          "data": {
            "text/plain": [
              "tensor(8)"
            ]
          },
          "metadata": {},
          "execution_count": 2
        }
      ]
    },
    {
      "cell_type": "code",
      "source": [
        "#ndim shows that how many dimentions is there.\n",
        "scalar.ndim"
      ],
      "metadata": {
        "colab": {
          "base_uri": "https://localhost:8080/"
        },
        "id": "Ed5luxlkKbaZ",
        "outputId": "d8ff84e5-ad6d-4733-8113-d42a046770a1"
      },
      "execution_count": 3,
      "outputs": [
        {
          "output_type": "execute_result",
          "data": {
            "text/plain": [
              "0"
            ]
          },
          "metadata": {},
          "execution_count": 3
        }
      ]
    },
    {
      "cell_type": "code",
      "source": [
        "#get tensor back as a python int\n",
        "print(scalar.item())"
      ],
      "metadata": {
        "colab": {
          "base_uri": "https://localhost:8080/"
        },
        "id": "0005YUCPLrJF",
        "outputId": "905c829a-bfd4-4b28-e1df-8e8dceb180d9"
      },
      "execution_count": 4,
      "outputs": [
        {
          "output_type": "stream",
          "name": "stdout",
          "text": [
            "8\n"
          ]
        }
      ]
    },
    {
      "cell_type": "code",
      "source": [
        "#Vectors\n",
        "vector = torch.tensor([7,7])\n",
        "vector"
      ],
      "metadata": {
        "colab": {
          "base_uri": "https://localhost:8080/"
        },
        "id": "M72_yiWPL6Xb",
        "outputId": "15376cf3-0d29-4021-c81d-63aeb0defae9"
      },
      "execution_count": 5,
      "outputs": [
        {
          "output_type": "execute_result",
          "data": {
            "text/plain": [
              "tensor([7, 7])"
            ]
          },
          "metadata": {},
          "execution_count": 5
        }
      ]
    },
    {
      "cell_type": "code",
      "source": [
        "vector.ndim"
      ],
      "metadata": {
        "colab": {
          "base_uri": "https://localhost:8080/"
        },
        "id": "XtmAckIQMFxi",
        "outputId": "3a13e485-d70d-4e5a-ca9b-e14f666f90ab"
      },
      "execution_count": 6,
      "outputs": [
        {
          "output_type": "execute_result",
          "data": {
            "text/plain": [
              "1"
            ]
          },
          "metadata": {},
          "execution_count": 6
        }
      ]
    },
    {
      "cell_type": "code",
      "source": [
        "vector.shape"
      ],
      "metadata": {
        "colab": {
          "base_uri": "https://localhost:8080/"
        },
        "id": "Mp4X_t69M5KW",
        "outputId": "025ce74b-a99b-4490-ff14-5869e932d67f"
      },
      "execution_count": 7,
      "outputs": [
        {
          "output_type": "execute_result",
          "data": {
            "text/plain": [
              "torch.Size([2])"
            ]
          },
          "metadata": {},
          "execution_count": 7
        }
      ]
    },
    {
      "cell_type": "code",
      "source": [
        "#MATRIX\n",
        "MATRIX = torch.tensor([[7,8],[8,9]])\n",
        "MATRIX.ndim"
      ],
      "metadata": {
        "colab": {
          "base_uri": "https://localhost:8080/"
        },
        "id": "NuMfL1MeNdh_",
        "outputId": "ab55558d-904a-4a99-bfa5-05808fc2dd57"
      },
      "execution_count": 8,
      "outputs": [
        {
          "output_type": "execute_result",
          "data": {
            "text/plain": [
              "2"
            ]
          },
          "metadata": {},
          "execution_count": 8
        }
      ]
    },
    {
      "cell_type": "code",
      "source": [
        "MATRIX[0]\n"
      ],
      "metadata": {
        "colab": {
          "base_uri": "https://localhost:8080/"
        },
        "id": "le2q8fFHNfby",
        "outputId": "f45d3c0e-4299-433a-8043-6a70c13e3754"
      },
      "execution_count": 9,
      "outputs": [
        {
          "output_type": "execute_result",
          "data": {
            "text/plain": [
              "tensor([7, 8])"
            ]
          },
          "metadata": {},
          "execution_count": 9
        }
      ]
    },
    {
      "cell_type": "code",
      "source": [
        "MATRIX.shape"
      ],
      "metadata": {
        "colab": {
          "base_uri": "https://localhost:8080/"
        },
        "id": "Wwve4bcWN_4F",
        "outputId": "fcae67ee-f076-4670-9576-b5433124cead"
      },
      "execution_count": 10,
      "outputs": [
        {
          "output_type": "execute_result",
          "data": {
            "text/plain": [
              "torch.Size([2, 2])"
            ]
          },
          "metadata": {},
          "execution_count": 10
        }
      ]
    },
    {
      "cell_type": "code",
      "source": [
        "#TENSOR\n",
        "TENSOR = torch.tensor([[[1,2,3],[4,5,6],[9,10,11]]])\n",
        "TENSOR"
      ],
      "metadata": {
        "colab": {
          "base_uri": "https://localhost:8080/"
        },
        "id": "YYBHoXVDOGp3",
        "outputId": "3fb793d2-db2a-4d47-b8e6-baab65e6c605"
      },
      "execution_count": 11,
      "outputs": [
        {
          "output_type": "execute_result",
          "data": {
            "text/plain": [
              "tensor([[[ 1,  2,  3],\n",
              "         [ 4,  5,  6],\n",
              "         [ 9, 10, 11]]])"
            ]
          },
          "metadata": {},
          "execution_count": 11
        }
      ]
    },
    {
      "cell_type": "code",
      "source": [
        "TENSOR.shape"
      ],
      "metadata": {
        "colab": {
          "base_uri": "https://localhost:8080/"
        },
        "id": "Nvl9MuiyOQpQ",
        "outputId": "e627aa54-c8e2-4dca-f712-ebab9ce67c95"
      },
      "execution_count": 12,
      "outputs": [
        {
          "output_type": "execute_result",
          "data": {
            "text/plain": [
              "torch.Size([1, 3, 3])"
            ]
          },
          "metadata": {},
          "execution_count": 12
        }
      ]
    },
    {
      "cell_type": "code",
      "source": [
        "TENSOR.ndim"
      ],
      "metadata": {
        "colab": {
          "base_uri": "https://localhost:8080/"
        },
        "id": "xw4Y4e7tRytC",
        "outputId": "cccb4808-e21a-4575-dafa-810a865f986c"
      },
      "execution_count": 13,
      "outputs": [
        {
          "output_type": "execute_result",
          "data": {
            "text/plain": [
              "3"
            ]
          },
          "metadata": {},
          "execution_count": 13
        }
      ]
    },
    {
      "cell_type": "code",
      "source": [],
      "metadata": {
        "id": "SGlQsuIrRzzR"
      },
      "execution_count": 13,
      "outputs": []
    },
    {
      "cell_type": "markdown",
      "source": [
        "##Random Tensors\n",
        "### Why random tensors because the way the ml work is like this:\n",
        "\n",
        "\n",
        "```\n",
        "# Random numbers ->\n",
        "      while True:\n",
        "         look at data\n",
        "         update random numbers -> look at data\n",
        "```\n",
        "\n"
      ],
      "metadata": {
        "id": "KW2sreWATB2E"
      }
    },
    {
      "cell_type": "code",
      "source": [
        "random_tensor = torch.rand(1,3,4)\n",
        "random_tensor"
      ],
      "metadata": {
        "colab": {
          "base_uri": "https://localhost:8080/"
        },
        "id": "N451mBtxTEaa",
        "outputId": "afe9705b-47fa-4883-f959-3150c920b8ac"
      },
      "execution_count": 14,
      "outputs": [
        {
          "output_type": "execute_result",
          "data": {
            "text/plain": [
              "tensor([[[0.1853, 0.5933, 0.9288, 0.3585],\n",
              "         [0.1621, 0.7000, 0.0932, 0.6512],\n",
              "         [0.2200, 0.6617, 0.9013, 0.7401]]])"
            ]
          },
          "metadata": {},
          "execution_count": 14
        }
      ]
    },
    {
      "cell_type": "code",
      "source": [
        "#random image size tensor\n",
        "#224x224 red green blue picture\n",
        "random_img_size_tensor = torch.rand(size=(3,224,224))\n",
        "random_img_size_tensor.shape, random_img_size_tensor.ndim"
      ],
      "metadata": {
        "colab": {
          "base_uri": "https://localhost:8080/"
        },
        "id": "V5qXxDKcXVjh",
        "outputId": "89d9dd36-77ff-4652-e9bf-c3d9b3688d7a"
      },
      "execution_count": 15,
      "outputs": [
        {
          "output_type": "execute_result",
          "data": {
            "text/plain": [
              "(torch.Size([3, 224, 224]), 3)"
            ]
          },
          "metadata": {},
          "execution_count": 15
        }
      ]
    },
    {
      "cell_type": "code",
      "source": [
        "#zeroes and ones\n",
        "zerose = torch.zeros(size=(1,3,4))\n",
        "ones = torch.ones(size=(2,3,4))\n",
        "print(zerose)\n",
        "print(ones)"
      ],
      "metadata": {
        "colab": {
          "base_uri": "https://localhost:8080/"
        },
        "id": "KdXnU2NsXYTP",
        "outputId": "a80baf31-08f3-4761-f4d6-45456cd19f77"
      },
      "execution_count": 16,
      "outputs": [
        {
          "output_type": "stream",
          "name": "stdout",
          "text": [
            "tensor([[[0., 0., 0., 0.],\n",
            "         [0., 0., 0., 0.],\n",
            "         [0., 0., 0., 0.]]])\n",
            "tensor([[[1., 1., 1., 1.],\n",
            "         [1., 1., 1., 1.],\n",
            "         [1., 1., 1., 1.]],\n",
            "\n",
            "        [[1., 1., 1., 1.],\n",
            "         [1., 1., 1., 1.],\n",
            "         [1., 1., 1., 1.]]])\n"
          ]
        }
      ]
    },
    {
      "cell_type": "code",
      "source": [
        "#default datatype is float. take a look here\n",
        "random_tensor.dtype, ones.dtype"
      ],
      "metadata": {
        "colab": {
          "base_uri": "https://localhost:8080/"
        },
        "id": "RM2z2M03ZPc_",
        "outputId": "da4dc160-b7cf-402f-9e6d-8344290d088a"
      },
      "execution_count": 17,
      "outputs": [
        {
          "output_type": "execute_result",
          "data": {
            "text/plain": [
              "(torch.float32, torch.float32)"
            ]
          },
          "metadata": {},
          "execution_count": 17
        }
      ]
    },
    {
      "cell_type": "markdown",
      "source": [
        "### Creating the range of tensors and tensors-like\n"
      ],
      "metadata": {
        "id": "58yK-okIvRXN"
      }
    },
    {
      "cell_type": "code",
      "source": [
        "#use torch.arange()\n",
        "thirteen_toHunderd = torch.arange(0,100,13)\n",
        "#Starting index and ending index, and step\n",
        "#thirteen_toHunderd.ndim"
      ],
      "metadata": {
        "id": "OEF7i3xgvfKL"
      },
      "execution_count": 18,
      "outputs": []
    },
    {
      "cell_type": "code",
      "source": [
        "#Creating tensors-like\n",
        "#A tensor-like is kinda a numpy array or a normal array and the \"like\" functions turns them into a tensor.\n",
        "someZeroes =  torch.zeros_like(thirteen_toHunderd)\n",
        "someZeroes"
      ],
      "metadata": {
        "colab": {
          "base_uri": "https://localhost:8080/"
        },
        "id": "0D0sMnx0w8Re",
        "outputId": "284401c0-9322-4288-bb5b-d0acb936b6db"
      },
      "execution_count": 19,
      "outputs": [
        {
          "output_type": "execute_result",
          "data": {
            "text/plain": [
              "tensor([0, 0, 0, 0, 0, 0, 0, 0])"
            ]
          },
          "metadata": {},
          "execution_count": 19
        }
      ]
    },
    {
      "cell_type": "markdown",
      "source": [
        "### Tensor datatypes"
      ],
      "metadata": {
        "id": "F9XXrocOyTg6"
      }
    },
    {
      "cell_type": "markdown",
      "source": [
        "####Tensor datatypes are one of the 3 big errors w pytorch and deep learning\n",
        "1) Tensors not right datatype(thistopic)\n",
        "2) Tensors not right shape.\n",
        "3) Tensors not on the right device."
      ],
      "metadata": {
        "id": "FxIcjp7C0jiX"
      }
    },
    {
      "cell_type": "code",
      "source": [
        "#Float 32 Tensor (Default data type)\n",
        "float32Tensor = torch.rand(1,10)\n",
        "float32Tensor.dtype\n"
      ],
      "metadata": {
        "colab": {
          "base_uri": "https://localhost:8080/"
        },
        "id": "pqa1a-tUxFKy",
        "outputId": "b2412b41-df46-4c2f-a692-1541fc306798"
      },
      "execution_count": 20,
      "outputs": [
        {
          "output_type": "execute_result",
          "data": {
            "text/plain": [
              "torch.float32"
            ]
          },
          "metadata": {},
          "execution_count": 20
        }
      ]
    },
    {
      "cell_type": "code",
      "source": [
        "#Float 16 Tensor (I'm showing how to change datatype)\n",
        "#Use dtype to change datatype of it while making the function.\n",
        "#dtype, device and requires_grad are VERY very important.\n",
        "float16Tensor = torch.rand([1,10], dtype=torch.float16, #   Datatype\n",
        "                           device=\"cpu\", # what device is this tensor going to be on\n",
        "                 requires_grad=False) # whether or not to track gradients with this tensors operations\n",
        "float16Tensor.dtype"
      ],
      "metadata": {
        "colab": {
          "base_uri": "https://localhost:8080/"
        },
        "id": "ah1ife_XzIBk",
        "outputId": "6326d9ea-b303-4f00-e46e-ad42b698b2b6"
      },
      "execution_count": 21,
      "outputs": [
        {
          "output_type": "execute_result",
          "data": {
            "text/plain": [
              "torch.float16"
            ]
          },
          "metadata": {},
          "execution_count": 21
        }
      ]
    },
    {
      "cell_type": "code",
      "source": [
        "#Changing the type of a Tensor\n",
        "float32Tensor = float32Tensor.type(torch.float64)\n",
        "float32Tensor.dtype"
      ],
      "metadata": {
        "colab": {
          "base_uri": "https://localhost:8080/"
        },
        "id": "URe_oBol12y8",
        "outputId": "8803ff5e-7f01-41d2-92d2-473125bdfbb1"
      },
      "execution_count": 22,
      "outputs": [
        {
          "output_type": "execute_result",
          "data": {
            "text/plain": [
              "torch.float64"
            ]
          },
          "metadata": {},
          "execution_count": 22
        }
      ]
    },
    {
      "cell_type": "code",
      "source": [
        "#multiplying the tensors\n",
        "float16Tensor*float32Tensor #changed datatype to the bigger one\n",
        "#It won't always result without error."
      ],
      "metadata": {
        "colab": {
          "base_uri": "https://localhost:8080/"
        },
        "id": "ac3BaKr12A-R",
        "outputId": "28f15564-7978-4f72-b5f0-dd865fd43c6b"
      },
      "execution_count": 23,
      "outputs": [
        {
          "output_type": "execute_result",
          "data": {
            "text/plain": [
              "tensor([[0.1125, 0.4809, 0.1560, 0.4934, 0.6474, 0.5460, 0.0773, 0.3966, 0.1386,\n",
              "         0.0565]], dtype=torch.float64)"
            ]
          },
          "metadata": {},
          "execution_count": 23
        }
      ]
    },
    {
      "cell_type": "markdown",
      "source": [
        "###Getting information from the tensors\n",
        "1) Tensors not right datatype<br>\n",
        "- To get datatype use:\n",
        "\n",
        "```\n",
        "tensor.dtype\n",
        "```\n",
        "\n",
        "\n",
        "2) Tensors not right shape. <br>\n",
        "- To get the shape use:\n",
        "```\n",
        "tensor.shape\n",
        "```\n",
        "3) Tensors not on the right device.\n",
        "- To get the device knowledge use:\n",
        "```\n",
        "tensor.device\n",
        "```"
      ],
      "metadata": {
        "id": "x_swjuAy5fYf"
      }
    },
    {
      "cell_type": "code",
      "source": [
        "#Create a tensor\n",
        "someThing = torch.rand([1,10], dtype=torch.float16, device=\"cpu\")"
      ],
      "metadata": {
        "id": "007zQJa_50Hu"
      },
      "execution_count": 24,
      "outputs": []
    },
    {
      "cell_type": "code",
      "source": [
        "#Getting info about the tensor\n",
        "#That's how you can see normally on your general ide\n",
        "print(someThing)\n",
        "print(f\"Datatype of the tensor:{someThing.dtype}\")\n",
        "print(f\"Device of the tensor:{someThing.device}\")\n",
        "print(f\"Shape of the tensor: {someThing.shape}\")"
      ],
      "metadata": {
        "colab": {
          "base_uri": "https://localhost:8080/"
        },
        "id": "ZudoTvPO6ebw",
        "outputId": "b1ff4f11-8881-4a40-c05f-b93374b73ac5"
      },
      "execution_count": 25,
      "outputs": [
        {
          "output_type": "stream",
          "name": "stdout",
          "text": [
            "tensor([[0.2529, 0.0474, 0.6558, 0.0278, 0.8828, 0.1675, 0.1201, 0.2368, 0.2529,\n",
            "         0.6558]], dtype=torch.float16)\n",
            "Datatype of the tensor:torch.float16\n",
            "Device of the tensor:cpu\n",
            "Shape of the tensor: torch.Size([1, 10])\n"
          ]
        }
      ]
    },
    {
      "cell_type": "markdown",
      "source": [
        "###Manipulating Tensors (Tensor operations)\n",
        "####Tensor operations include:\n",
        "- Addition\n",
        "- Subtraction\n",
        "- Multiplication(element-wise)\n",
        "- Division\n",
        "- Matrix Multiplication"
      ],
      "metadata": {
        "id": "UuGPs7ou9lAk"
      }
    },
    {
      "cell_type": "code",
      "source": [
        "maniTensor = torch.rand([1,10], dtype=torch.float16)\n",
        "#adding\n",
        "maniTensor+=10\n",
        "print(maniTensor)\n",
        "#multiplying\n",
        "maniTensor*=10\n",
        "print(maniTensor)\n",
        "#subtracting\n",
        "maniTensor-=31\n",
        "print (maniTensor)\n",
        "#dividing\n",
        "maniTensor/=5\n",
        "print(maniTensor)"
      ],
      "metadata": {
        "colab": {
          "base_uri": "https://localhost:8080/"
        },
        "id": "hoUmFDim96X3",
        "outputId": "eeaee3c7-7812-4b10-b5a2-9983c6f32dac"
      },
      "execution_count": 26,
      "outputs": [
        {
          "output_type": "stream",
          "name": "stdout",
          "text": [
            "tensor([[10.3750, 10.2031, 10.2344, 10.2266, 10.7422, 10.4844, 10.3672, 10.4375,\n",
            "         10.4219, 10.3594]], dtype=torch.float16)\n",
            "tensor([[103.7500, 102.0000, 102.3750, 102.2500, 107.4375, 104.8750, 103.6875,\n",
            "         104.3750, 104.2500, 103.6250]], dtype=torch.float16)\n",
            "tensor([[72.7500, 71.0000, 71.3750, 71.2500, 76.4375, 73.8750, 72.6875, 73.3750,\n",
            "         73.2500, 72.6250]], dtype=torch.float16)\n",
            "tensor([[14.5469, 14.2031, 14.2734, 14.2500, 15.2891, 14.7734, 14.5391, 14.6719,\n",
            "         14.6484, 14.5234]], dtype=torch.float16)\n"
          ]
        }
      ]
    },
    {
      "cell_type": "code",
      "source": [
        "#you can use pytorch's in-built functions for addition multplying etc. but doing this way easier.\n",
        "#If normal python syntax doesn't work, you can try pytorch's documentation"
      ],
      "metadata": {
        "id": "aMVWh0f6_4gq"
      },
      "execution_count": 27,
      "outputs": []
    },
    {
      "cell_type": "markdown",
      "source": [
        "### Matrix multiplication\n",
        "2 main ways of multiplication in neural networks and deep learning:\n",
        "1. Element-wise multiplication (Normal multiplication that we use in our daily life)\n",
        "2. Matrix Multiplication(dot product)"
      ],
      "metadata": {
        "id": "9qC3W2AzBvvf"
      }
    },
    {
      "cell_type": "code",
      "source": [
        "###Element wise multiplication\n",
        "print (f\"{maniTensor} * {maniTensor}\")\n",
        "print(f\"equals to {maniTensor*maniTensor}\")"
      ],
      "metadata": {
        "colab": {
          "base_uri": "https://localhost:8080/"
        },
        "id": "TtnbQFx6AjSw",
        "outputId": "c46e97fa-9fd1-4722-a34b-0954650434f6"
      },
      "execution_count": 28,
      "outputs": [
        {
          "output_type": "stream",
          "name": "stdout",
          "text": [
            "tensor([[14.5469, 14.2031, 14.2734, 14.2500, 15.2891, 14.7734, 14.5391, 14.6719,\n",
            "         14.6484, 14.5234]], dtype=torch.float16) * tensor([[14.5469, 14.2031, 14.2734, 14.2500, 15.2891, 14.7734, 14.5391, 14.6719,\n",
            "         14.6484, 14.5234]], dtype=torch.float16)\n",
            "equals to tensor([[211.6250, 201.7500, 203.7500, 203.0000, 233.7500, 218.2500, 211.3750,\n",
            "         215.2500, 214.6250, 210.8750]], dtype=torch.float16)\n"
          ]
        }
      ]
    },
    {
      "cell_type": "code",
      "source": [
        "#making a new tensor to be able to matrix-multiply it by maniTensor.\n",
        "maniTensor = maniTensor.type(torch.float16)\n",
        "mamiTensor = torch.rand(10,1, dtype=torch.float16)"
      ],
      "metadata": {
        "id": "S6xconXPF1LC"
      },
      "execution_count": 29,
      "outputs": []
    },
    {
      "cell_type": "code",
      "source": [
        "###Dot Product\n",
        "#we use torch.matmul(tensor,tensor) in here.\n",
        "torch.matmul(maniTensor, mamiTensor)"
      ],
      "metadata": {
        "colab": {
          "base_uri": "https://localhost:8080/"
        },
        "id": "tQqyvTbEFKm1",
        "outputId": "6b5e98a5-8633-458e-8725-83bc8b0a5ce1"
      },
      "execution_count": 30,
      "outputs": [
        {
          "output_type": "execute_result",
          "data": {
            "text/plain": [
              "tensor([[63.4375]], dtype=torch.float16)"
            ]
          },
          "metadata": {},
          "execution_count": 30
        }
      ]
    },
    {
      "cell_type": "code",
      "source": [
        "###Transposing a Matrix (for example making a 3x2 matrix 2x3)\n",
        "maniTensor = maniTensor.T\n",
        "maniTensor\n",
        "mamiTensor = mamiTensor.T\n",
        "mamiTensor\n",
        "#See how it changes\n",
        "torch.matmul(maniTensor, mamiTensor)"
      ],
      "metadata": {
        "colab": {
          "base_uri": "https://localhost:8080/"
        },
        "id": "EHtXFCKLGOcQ",
        "outputId": "430051b4-5f8b-4e63-d0b8-9bd51ab2f3af"
      },
      "execution_count": 31,
      "outputs": [
        {
          "output_type": "execute_result",
          "data": {
            "text/plain": [
              "tensor([[ 1.3848,  1.6475,  2.0957,  7.7852,  9.3359,  9.1953,  4.0469,  2.1660,\n",
              "         13.3359, 11.9688],\n",
              "        [ 1.3525,  1.6094,  2.0449,  7.6016,  9.1094,  8.9844,  3.9531,  2.1152,\n",
              "         13.0156, 11.6875],\n",
              "        [ 1.3594,  1.6172,  2.0566,  7.6367,  9.1562,  9.0234,  3.9727,  2.1250,\n",
              "         13.0781, 11.7422],\n",
              "        [ 1.3564,  1.6143,  2.0527,  7.6250,  9.1406,  9.0078,  3.9668,  2.1230,\n",
              "         13.0625, 11.7266],\n",
              "        [ 1.4561,  1.7324,  2.2031,  8.1797,  9.8125,  9.6641,  4.2539,  2.2773,\n",
              "         14.0156, 12.5781],\n",
              "        [ 1.4062,  1.6738,  2.1289,  7.9062,  9.4766,  9.3438,  4.1133,  2.1992,\n",
              "         13.5391, 12.1562],\n",
              "        [ 1.3848,  1.6475,  2.0938,  7.7812,  9.3281,  9.1953,  4.0469,  2.1660,\n",
              "         13.3281, 11.9609],\n",
              "        [ 1.3975,  1.6621,  2.1133,  7.8516,  9.4141,  9.2812,  4.0820,  2.1855,\n",
              "         13.4453, 12.0703],\n",
              "        [ 1.3945,  1.6592,  2.1094,  7.8398,  9.3984,  9.2656,  4.0781,  2.1816,\n",
              "         13.4219, 12.0547],\n",
              "        [ 1.3828,  1.6455,  2.0918,  7.7734,  9.3203,  9.1797,  4.0430,  2.1621,\n",
              "         13.3125, 11.9453]], dtype=torch.float16)"
            ]
          },
          "metadata": {},
          "execution_count": 31
        }
      ]
    },
    {
      "cell_type": "markdown",
      "source": [
        "###Finding the min, max , mean , sum etc(tensor aggregation)"
      ],
      "metadata": {
        "id": "l-iQlAhZMoCN"
      }
    },
    {
      "cell_type": "code",
      "source": [
        "#create a new tensor\n",
        "tenseur = torch.arange(0,100,10, dtype=torch.float16)\n",
        "tenseur"
      ],
      "metadata": {
        "colab": {
          "base_uri": "https://localhost:8080/"
        },
        "id": "sWNNPMYfPpkH",
        "outputId": "76ad0ff4-91fa-4953-911e-9f244afe4b00"
      },
      "execution_count": 32,
      "outputs": [
        {
          "output_type": "execute_result",
          "data": {
            "text/plain": [
              "tensor([ 0., 10., 20., 30., 40., 50., 60., 70., 80., 90.], dtype=torch.float16)"
            ]
          },
          "metadata": {},
          "execution_count": 32
        }
      ]
    },
    {
      "cell_type": "code",
      "source": [
        "#find the min and max, mean and sum\n",
        "torch.min(tenseur), torch.max(tenseur), torch.mean(tenseur), torch.sum(tenseur)"
      ],
      "metadata": {
        "colab": {
          "base_uri": "https://localhost:8080/"
        },
        "id": "STR3N_6tQM6s",
        "outputId": "17232a83-60a8-4e37-d30b-59349ad596e0"
      },
      "execution_count": 33,
      "outputs": [
        {
          "output_type": "execute_result",
          "data": {
            "text/plain": [
              "(tensor(0., dtype=torch.float16),\n",
              " tensor(90., dtype=torch.float16),\n",
              " tensor(45., dtype=torch.float16),\n",
              " tensor(450., dtype=torch.float16))"
            ]
          },
          "metadata": {},
          "execution_count": 33
        }
      ]
    },
    {
      "cell_type": "code",
      "source": [
        "#Finding the positional value of min and max\n",
        "tenseur.argmin(), tenseur.argmax()\n",
        "tenseur[tenseur.argmax()]"
      ],
      "metadata": {
        "colab": {
          "base_uri": "https://localhost:8080/"
        },
        "id": "jWut4i8cQPEL",
        "outputId": "966d9a5f-dacb-4b02-c0dd-dabfd0fed989"
      },
      "execution_count": 34,
      "outputs": [
        {
          "output_type": "execute_result",
          "data": {
            "text/plain": [
              "tensor(90., dtype=torch.float16)"
            ]
          },
          "metadata": {},
          "execution_count": 34
        }
      ]
    },
    {
      "cell_type": "markdown",
      "source": [
        "###Reshaping, stacking squeezing und unsqueezing the tensors\n",
        "\n",
        "- Reshaping - reshaps an input tensor to a defined shape\n",
        "* View - Return a view of an input of an unput tensor of certain shape but keep the same memory as the original tensor\n",
        "* Stacking - combine multiple tensirs on top if each other(vstack) or side by side(hstack)\n",
        "* squeeze - removes all `1` dimensions from a tensor\n",
        "* unsqueeze - add a `1` dimension to a target tensor\n",
        "- permute - return a view of the input with dimensions permuted (swapped) in a certain way\n",
        "\n"
      ],
      "metadata": {
        "id": "L9KNgyI2WN7x"
      }
    },
    {
      "cell_type": "code",
      "source": [
        "#Making a new tensor\n",
        "oneTen = torch.arange(1,10)\n",
        "oneTen, oneTen.shape"
      ],
      "metadata": {
        "colab": {
          "base_uri": "https://localhost:8080/"
        },
        "id": "YeaEDBTmYyuY",
        "outputId": "8c820564-8ba4-488e-92b0-c58b28ae8d40"
      },
      "execution_count": 35,
      "outputs": [
        {
          "output_type": "execute_result",
          "data": {
            "text/plain": [
              "(tensor([1, 2, 3, 4, 5, 6, 7, 8, 9]), torch.Size([9]))"
            ]
          },
          "metadata": {},
          "execution_count": 35
        }
      ]
    },
    {
      "cell_type": "code",
      "source": [
        "#Adding an extra dimension\n",
        "oneTenRe = oneTen.reshape(3,3)\n",
        "#it should be suitable for size you have we have 9 elements in here for example.\n",
        "oneTenRe"
      ],
      "metadata": {
        "colab": {
          "base_uri": "https://localhost:8080/"
        },
        "id": "4uj7tMjmZKRt",
        "outputId": "ea5c6e67-87a3-468c-bc93-43ee366ddc9e"
      },
      "execution_count": 36,
      "outputs": [
        {
          "output_type": "execute_result",
          "data": {
            "text/plain": [
              "tensor([[1, 2, 3],\n",
              "        [4, 5, 6],\n",
              "        [7, 8, 9]])"
            ]
          },
          "metadata": {},
          "execution_count": 36
        }
      ]
    },
    {
      "cell_type": "code",
      "source": [
        "#Changing the view\n",
        "#View is keeped in the same memory as original so changing the viewed thing\n",
        "#would change the original one. lets see!\n",
        "fakeTen = oneTen.view(1,9)\n",
        "fakeTen\n",
        "fakeTen[:,0] = 99\n",
        "fakeTen, oneTen #see?"
      ],
      "metadata": {
        "colab": {
          "base_uri": "https://localhost:8080/"
        },
        "id": "NClKzaGGZx71",
        "outputId": "cdae86df-1dd9-4ec6-c765-5a828c63c62e"
      },
      "execution_count": 37,
      "outputs": [
        {
          "output_type": "execute_result",
          "data": {
            "text/plain": [
              "(tensor([[99,  2,  3,  4,  5,  6,  7,  8,  9]]),\n",
              " tensor([99,  2,  3,  4,  5,  6,  7,  8,  9]))"
            ]
          },
          "metadata": {},
          "execution_count": 37
        }
      ]
    },
    {
      "cell_type": "code",
      "source": [
        "# Stack tensors on top of each other\n",
        "# h stack is horisontal so it's like a single stack added to each other\n",
        "# but v stack is vertical so you got kinda the same results as normal stack in dimension 1\n",
        "fakeTen_stacked = torch.stack([fakeTen,fakeTen,fakeTen,fakeTen], dim=1)\n",
        "fakeTen_stacked"
      ],
      "metadata": {
        "colab": {
          "base_uri": "https://localhost:8080/"
        },
        "id": "JYvaH-q7c2A9",
        "outputId": "9a1e34f1-202d-42ae-d354-4b23ec21d976"
      },
      "execution_count": 38,
      "outputs": [
        {
          "output_type": "execute_result",
          "data": {
            "text/plain": [
              "tensor([[[99,  2,  3,  4,  5,  6,  7,  8,  9],\n",
              "         [99,  2,  3,  4,  5,  6,  7,  8,  9],\n",
              "         [99,  2,  3,  4,  5,  6,  7,  8,  9],\n",
              "         [99,  2,  3,  4,  5,  6,  7,  8,  9]]])"
            ]
          },
          "metadata": {},
          "execution_count": 38
        }
      ]
    },
    {
      "cell_type": "code",
      "source": [
        "#torch.squeeze() - removes all single dimensions from a target tensor\n",
        "# all ones in size in removed\n",
        "# torch.squeeze() reverses the squeeze method\n",
        "#dim=0 is default\n",
        "fakeTen.squeeze().shape, fakeTen.shape, fakeTen.unsqueeze(dim=0)"
      ],
      "metadata": {
        "colab": {
          "base_uri": "https://localhost:8080/"
        },
        "id": "HiYAWjP3d2CE",
        "outputId": "bc9f4d43-9103-45b3-ff7f-246edb5c66f2"
      },
      "execution_count": 39,
      "outputs": [
        {
          "output_type": "execute_result",
          "data": {
            "text/plain": [
              "(torch.Size([9]),\n",
              " torch.Size([1, 9]),\n",
              " tensor([[[99,  2,  3,  4,  5,  6,  7,  8,  9]]]))"
            ]
          },
          "metadata": {},
          "execution_count": 39
        }
      ]
    },
    {
      "cell_type": "code",
      "source": [
        "#torch.permute() changes the order of the tensor here is how you can do it:\n",
        "showTensor = torch.randn(2,3,5);\n",
        "showTensor.shape, torch.permute(showTensor,(1,2,0)).size()\n",
        "# it changed the shape of the function"
      ],
      "metadata": {
        "colab": {
          "base_uri": "https://localhost:8080/"
        },
        "id": "L6RoVHYLf6Q0",
        "outputId": "df19cb19-ea47-46f1-c442-63a8c93f2e0e"
      },
      "execution_count": 40,
      "outputs": [
        {
          "output_type": "execute_result",
          "data": {
            "text/plain": [
              "(torch.Size([2, 3, 5]), torch.Size([3, 5, 2]))"
            ]
          },
          "metadata": {},
          "execution_count": 40
        }
      ]
    },
    {
      "cell_type": "markdown",
      "source": [
        "###Indexing (selecting data from tensors)\n",
        "#### INdexing with pytorch is similar to indexing with NumPy"
      ],
      "metadata": {
        "id": "OspZsGsHHFjm"
      }
    },
    {
      "cell_type": "code",
      "source": [
        "#Creating a tensor:\n",
        "inTensor = torch. arange(1,10).reshape(1,3,3)\n",
        "inTensor, inTensor.shape"
      ],
      "metadata": {
        "id": "nS9rW9m1jFiy",
        "colab": {
          "base_uri": "https://localhost:8080/"
        },
        "outputId": "f4613dda-c853-43c7-d4a3-c09d6ef6c746"
      },
      "execution_count": 41,
      "outputs": [
        {
          "output_type": "execute_result",
          "data": {
            "text/plain": [
              "(tensor([[[1, 2, 3],\n",
              "          [4, 5, 6],\n",
              "          [7, 8, 9]]]),\n",
              " torch.Size([1, 3, 3]))"
            ]
          },
          "metadata": {},
          "execution_count": 41
        }
      ]
    },
    {
      "cell_type": "code",
      "source": [
        "# Let's index our new Tensor!\n",
        "#You can use : to select from or until a dimention\n",
        "#:1 until 1st index, 1: from the 1st index\n",
        "inTensor[0,1:,2]"
      ],
      "metadata": {
        "colab": {
          "base_uri": "https://localhost:8080/"
        },
        "id": "lKblMziLHiN_",
        "outputId": "6d22a2c2-b42b-4fb7-ad15-c3f5bea2cf4a"
      },
      "execution_count": 42,
      "outputs": [
        {
          "output_type": "execute_result",
          "data": {
            "text/plain": [
              "tensor([6, 9])"
            ]
          },
          "metadata": {},
          "execution_count": 42
        }
      ]
    },
    {
      "cell_type": "code",
      "source": [],
      "metadata": {
        "id": "FnwES9WVIzgq"
      },
      "execution_count": 42,
      "outputs": []
    },
    {
      "cell_type": "markdown",
      "source": [
        "# PyTorch <3 NumPy"
      ],
      "metadata": {
        "id": "iZvz79k7LabK"
      }
    },
    {
      "cell_type": "code",
      "source": [
        "## NumPy Array to PyTorch Tensor --> torch.from_numpy(ndarray)\n",
        "## PyTorch Tensor To NumPy Array --> torch.Tensor.numpy()\n",
        "array = np.arange(1.0,10.0)\n",
        "tenumpy= torch.from_numpy(array).type(torch.float16)\n",
        "tenumpy\n",
        "#we've changed it from a numpy array to pytorch tensor"
      ],
      "metadata": {
        "colab": {
          "base_uri": "https://localhost:8080/"
        },
        "id": "pyxigIVDLhtR",
        "outputId": "4706ed2f-1b58-46df-97ec-b936718b7f93"
      },
      "execution_count": 43,
      "outputs": [
        {
          "output_type": "execute_result",
          "data": {
            "text/plain": [
              "tensor([1., 2., 3., 4., 5., 6., 7., 8., 9.], dtype=torch.float16)"
            ]
          },
          "metadata": {},
          "execution_count": 43
        }
      ]
    },
    {
      "cell_type": "code",
      "source": [
        "#now we're going to change this back to a numpy array\n",
        "#KEEP IN MIND THAT PYTORCH DEFAULT DATA TYPE IS FLOAT32 AND NUMPY'S IS FLOAT64\n",
        "Narray = torch.Tensor.numpy(tenumpy)\n",
        "Narray"
      ],
      "metadata": {
        "colab": {
          "base_uri": "https://localhost:8080/"
        },
        "id": "jkw0iq2nMObK",
        "outputId": "5b41a407-26fd-4d40-eec2-f9df24a03fd4"
      },
      "execution_count": 44,
      "outputs": [
        {
          "output_type": "execute_result",
          "data": {
            "text/plain": [
              "array([1., 2., 3., 4., 5., 6., 7., 8., 9.], dtype=float16)"
            ]
          },
          "metadata": {},
          "execution_count": 44
        }
      ]
    },
    {
      "cell_type": "markdown",
      "source": [
        "## Reproductbility(Trying to take random out of random)\n",
        "###In short, how a neural network learns:\n",
        "####\n",
        "\n",
        "```\n",
        "Start with random numbers -> tensor operations -> update random numbers to try\n",
        "and make their representations of the data better -> again > again > and AGAIN\n",
        "```\n",
        "TO reduce the randomness in nerural networks and PyTorch comes <br>\n",
        "the concept of a ***random seed***.\n",
        "\n",
        "Essentially what random seed does is \"how random's algorithm works\""
      ],
      "metadata": {
        "id": "NaWT9wlWOpZ8"
      }
    },
    {
      "cell_type": "code",
      "source": [
        "#without a seed it probably is wrong.\n",
        "rand_tens = torch.rand(3,4)\n",
        "rant_dens = torch.rand(3,4)\n",
        "print(rand_tens)\n",
        "print(rant_dens)\n",
        "print(rand_tens==rant_dens)"
      ],
      "metadata": {
        "colab": {
          "base_uri": "https://localhost:8080/"
        },
        "id": "dNsyAKd6Oxxn",
        "outputId": "002e1562-ee7e-467a-94e1-9cf9be287a0b"
      },
      "execution_count": 45,
      "outputs": [
        {
          "output_type": "stream",
          "name": "stdout",
          "text": [
            "tensor([[0.8028, 0.7171, 0.2274, 0.6677],\n",
            "        [0.7355, 0.2911, 0.5705, 0.7925],\n",
            "        [0.6864, 0.3851, 0.2219, 0.5689]])\n",
            "tensor([[0.4017, 0.2310, 0.4198, 0.5287],\n",
            "        [0.3201, 0.3266, 0.0294, 0.7387],\n",
            "        [0.0019, 0.6165, 0.0788, 0.0606]])\n",
            "tensor([[False, False, False, False],\n",
            "        [False, False, False, False],\n",
            "        [False, False, False, False]])\n"
          ]
        }
      ]
    },
    {
      "cell_type": "code",
      "source": [
        "#reproducible tensors with random seeds\n",
        "#set the random seed\n",
        "#I'm setting it as 92 because that's my nickname!\n",
        "torch.manual_seed(92)\n",
        "rany_tens = torch.rand(3,4)\n",
        "torch.manual_seed(92)\n",
        "#You should use everytime you want to call rand protocol\n",
        "ranb_dens = torch.rand(3,4)\n",
        "print(rany_tens)\n",
        "print(ranb_dens)\n",
        "print(rany_tens==ranb_dens)\n",
        "#ZORT"
      ],
      "metadata": {
        "colab": {
          "base_uri": "https://localhost:8080/"
        },
        "id": "k9-A0XKXRrbA",
        "outputId": "8e83ea44-61a3-4eb5-8713-ec467c6d15c5"
      },
      "execution_count": 46,
      "outputs": [
        {
          "output_type": "stream",
          "name": "stdout",
          "text": [
            "tensor([[0.7854, 0.9900, 0.8769, 0.2035],\n",
            "        [0.7304, 0.0142, 0.5906, 0.0460],\n",
            "        [0.0906, 0.7427, 0.2300, 0.0746]])\n",
            "tensor([[0.7854, 0.9900, 0.8769, 0.2035],\n",
            "        [0.7304, 0.0142, 0.5906, 0.0460],\n",
            "        [0.0906, 0.7427, 0.2300, 0.0746]])\n",
            "tensor([[True, True, True, True],\n",
            "        [True, True, True, True],\n",
            "        [True, True, True, True]])\n"
          ]
        }
      ]
    },
    {
      "cell_type": "markdown",
      "source": [
        "###Running Tensors and pytorch objects on the GPUs(AND MAKE FASTER COMPUTATIONS)\n"
      ],
      "metadata": {
        "id": "y9atV5XpVUaM"
      }
    },
    {
      "cell_type": "markdown",
      "source": [
        "### Getting the GPU\n",
        "1. using here\n",
        "2. using your own hardware\n",
        "3. cloud computing(aws,azure etc.)\n",
        "\n",
        "For 2,3 -> PyTorch + GPU drivers(cuda) (look to pytorch's own documentation)"
      ],
      "metadata": {
        "id": "4fIR-DW6W5Lp"
      }
    },
    {
      "cell_type": "code",
      "source": [
        "##Check GPU access with PyTorch\n",
        "torch.cuda.is_available()"
      ],
      "metadata": {
        "colab": {
          "base_uri": "https://localhost:8080/"
        },
        "id": "kGlg0OpOWLtc",
        "outputId": "5cd33e6a-5ead-4422-cf84-7f72f1fcc248"
      },
      "execution_count": 48,
      "outputs": [
        {
          "output_type": "execute_result",
          "data": {
            "text/plain": [
              "True"
            ]
          },
          "metadata": {},
          "execution_count": 48
        }
      ]
    },
    {
      "cell_type": "code",
      "source": [
        "# Setup device agnostic code\n",
        "device = \"cuda\" if torch.cuda.is_available() else \"cpu\"\n",
        "print(device)"
      ],
      "metadata": {
        "colab": {
          "base_uri": "https://localhost:8080/"
        },
        "id": "i_T5cCpPYLuH",
        "outputId": "a873137e-435f-435b-e850-6a1f14b7d22b"
      },
      "execution_count": 50,
      "outputs": [
        {
          "output_type": "stream",
          "name": "stdout",
          "text": [
            "cuda\n"
          ]
        }
      ]
    },
    {
      "cell_type": "code",
      "source": [
        "# count the number of devices\n",
        "torch.cuda.device_count()"
      ],
      "metadata": {
        "colab": {
          "base_uri": "https://localhost:8080/"
        },
        "id": "IVaj4oltYkg5",
        "outputId": "7a26bb3e-a3ae-415a-d87e-58052bc5b7a1"
      },
      "execution_count": 51,
      "outputs": [
        {
          "output_type": "execute_result",
          "data": {
            "text/plain": [
              "1"
            ]
          },
          "metadata": {},
          "execution_count": 51
        }
      ]
    },
    {
      "cell_type": "markdown",
      "source": [
        "### Putting tensors and models on the GPU"
      ],
      "metadata": {
        "id": "VIsz4sCTaAWV"
      }
    },
    {
      "cell_type": "code",
      "source": [
        "tenswoof = torch.tensor([1,2,3], device=\"cuda\")\n",
        "tenswoof.device\n",
        "#index 0 means you're in the first index of gpus\n",
        "#cuda means gpu"
      ],
      "metadata": {
        "colab": {
          "base_uri": "https://localhost:8080/"
        },
        "id": "nH_X20OkaEjx",
        "outputId": "1cb93266-5c56-4447-ac2e-9e93211fa51f"
      },
      "execution_count": 55,
      "outputs": [
        {
          "output_type": "execute_result",
          "data": {
            "text/plain": [
              "device(type='cuda', index=0)"
            ]
          },
          "metadata": {},
          "execution_count": 55
        }
      ]
    },
    {
      "cell_type": "markdown",
      "source": [
        "###Moving Tensors back into The CPU"
      ],
      "metadata": {
        "id": "xePr8wktbYjA"
      }
    },
    {
      "cell_type": "code",
      "source": [
        "#If tensors is on GPU, you can't transform them ito to numpy\n",
        "#use tensor_name.cpu() method to convert it back to cpu from gpu.\n",
        "tenswoof.cpu().numpy()\n"
      ],
      "metadata": {
        "colab": {
          "base_uri": "https://localhost:8080/"
        },
        "id": "uShRg_VtagTa",
        "outputId": "ac9c5f06-0a78-44a5-e7b1-9483eaa092df"
      },
      "execution_count": 58,
      "outputs": [
        {
          "output_type": "execute_result",
          "data": {
            "text/plain": [
              "array([1, 2, 3])"
            ]
          },
          "metadata": {},
          "execution_count": 58
        }
      ]
    }
  ]
}